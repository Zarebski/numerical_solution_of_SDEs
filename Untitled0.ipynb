{
 "metadata": {
  "name": "",
  "signature": "sha256:52e42a33f725a5c664d2aeebfe55598ee3d932e4eddc7243ea8ed4c0ad8726e3"
 },
 "nbformat": 3,
 "nbformat_minor": 0,
 "worksheets": [
  {
   "cells": [
    {
     "cell_type": "code",
     "collapsed": false,
     "input": [
      "import numpy as np \n",
      "import matplotlib.pyplot as plt\n",
      "\n",
      "def bm():\n",
      "    \"\"\"Brownian path simulation\"\"\"\n",
      "    np.random.seed(100)    # set the seed of the random number generator\n",
      "    stopping_time = 1.\n",
      "    N = 10\n",
      "    dt = stopping_time/N \n",
      "\n",
      "    dW = np.sqrt(dt)*np.random.normal(size=N)\n",
      "    W = np.cumsum(dW)\n",
      "    W = np.hstack(([0],W))\n",
      "    \n",
      "    T = np.linspace(0,stopping_time,N+1)\n",
      "    \n",
      "    return T,W\n",
      "\n",
      "def main():\n",
      "    T,W = bm()\n",
      "    \n",
      "    plt.figure()\n",
      "    plt.plot(T,W)\n",
      "    plt.show()\n",
      "    \n",
      "\n"
     ],
     "language": "python",
     "metadata": {},
     "outputs": [],
     "prompt_number": 27
    },
    {
     "cell_type": "code",
     "collapsed": false,
     "input": [
      "main()"
     ],
     "language": "python",
     "metadata": {},
     "outputs": [],
     "prompt_number": 29
    },
    {
     "cell_type": "code",
     "collapsed": false,
     "input": [],
     "language": "python",
     "metadata": {},
     "outputs": []
    }
   ],
   "metadata": {}
  }
 ]
}