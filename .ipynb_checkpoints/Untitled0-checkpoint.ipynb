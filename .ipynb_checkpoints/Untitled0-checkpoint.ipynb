{
 "metadata": {
  "name": "",
  "signature": "sha256:d2dfc877e3259098a7f9786db882b13d6712e2b8ee4475ac09beddb38d9a36ff"
 },
 "nbformat": 3,
 "nbformat_minor": 0,
 "worksheets": []
}